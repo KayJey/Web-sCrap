{
 "metadata": {
  "language_info": {
   "codemirror_mode": {
    "name": "ipython",
    "version": 3
   },
   "file_extension": ".py",
   "mimetype": "text/x-python",
   "name": "python",
   "nbconvert_exporter": "python",
   "pygments_lexer": "ipython3",
   "version": "3.8.2"
  },
  "orig_nbformat": 2,
  "kernelspec": {
   "name": "python3",
   "display_name": "Python 3.8.2 64-bit",
   "metadata": {
    "interpreter": {
     "hash": "a3496a236d315cf7a4a24683116674a07abe34259f82fc278455663442489e00"
    }
   }
  }
 },
 "nbformat": 4,
 "nbformat_minor": 2,
 "cells": [
  {
   "cell_type": "code",
   "execution_count": 25,
   "metadata": {},
   "outputs": [],
   "source": [
    "import smtplib\n",
    "from email.mime.text import MIMEText\n",
    "from email.mime.multipart import MIMEMultipart"
   ]
  },
  {
   "cell_type": "code",
   "execution_count": 15,
   "metadata": {},
   "outputs": [],
   "source": [
    "username = \"khyaatijindal2000@gmail.com\"\n",
    "password = \"zaqxswcdevfr12345\"\n"
   ]
  },
  {
   "cell_type": "code",
   "execution_count": 39,
   "metadata": {},
   "outputs": [],
   "source": [
    "from_email=username\n",
    "to_email=['18104065@hicet.ac.in','khyaati.jindal@gmail.com']\n",
    "msg_str=''"
   ]
  },
  {
   "cell_type": "code",
   "execution_count": 44,
   "metadata": {},
   "outputs": [],
   "source": [
    "def send_mail(text = 'Email Body' , subject = 'Hello World' ,from_email= username, to_emails=None):\n",
    "\n",
    "    assert isinstance(to_emails,list)\n",
    "    msg = MIMEMultipart('altrnative')\n",
    "    msg['From'] = from_email\n",
    "    msg['To'] = \",\".join(to_emails)\n",
    "    msg['Subject'] =  subject\n",
    "\n",
    "    txt_part = MIMEText(text,'plain')\n",
    "    h='''\n",
    "<img src = \"https://images.unsplash.com/photo-1549972490-028aeca03fa9?ixid=MnwxMjA3fDB8MHxzZWFyY2h8NXx8aXxlbnwwfHwwfHw%3D&ixlib=rb-1.2.1&auto=format&fit=crop&w=500&q=60\" alt=\"Simply Easy Learning\" width=\"600\" height=\"800\" >\n",
    "<h1>Here goes fiest image</h1>\n",
    "'''\n",
    "    html_part=MIMEText(h , 'html')\n",
    "    msg.attach(txt_part)\n",
    "    msg.attach(html_part)\n",
    "\n",
    "    msg_str = msg.as_string()\n",
    "\n",
    "    server = smtplib.SMTP(host='smtp.gmail.com' , port=587)\n",
    "    server.ehlo()\n",
    "    server.starttls()\n",
    "    server.login(username,password)    \n",
    "    server.sendmail(from_email , to_emails,msg_str)\n",
    "    \n",
    "    server.quit()\n",
    "    # with smtplib.SMTP() as server:\n",
    "    #     server.login()\n",
    "    #     pass\n",
    "send_mail(\"does it work?\" , \"I need a subject\" , \"khyaatijindal2000@gmail.com\" , to_email)    "
   ]
  },
  {
   "cell_type": "code",
   "execution_count": 9,
   "metadata": {},
   "outputs": [],
   "source": [
    "server = smtplib.SMTP(host='smtp.gmail.com' , port=587) # other ports 547 , 465"
   ]
  },
  {
   "cell_type": "code",
   "execution_count": 10,
   "metadata": {},
   "outputs": [
    {
     "output_type": "execute_result",
     "data": {
      "text/plain": [
       "(250,\n",
       " b'smtp.gmail.com at your service, [42.109.143.144]\\nSIZE 35882577\\n8BITMIME\\nSTARTTLS\\nENHANCEDSTATUSCODES\\nPIPELINING\\nCHUNKING\\nSMTPUTF8')"
      ]
     },
     "metadata": {},
     "execution_count": 10
    }
   ],
   "source": [
    "server.ehlo()"
   ]
  },
  {
   "cell_type": "code",
   "execution_count": 11,
   "metadata": {},
   "outputs": [
    {
     "output_type": "execute_result",
     "data": {
      "text/plain": [
       "(220, b'2.0.0 Ready to start TLS')"
      ]
     },
     "metadata": {},
     "execution_count": 11
    }
   ],
   "source": [
    "server.starttls()"
   ]
  },
  {
   "cell_type": "code",
   "execution_count": 12,
   "metadata": {},
   "outputs": [
    {
     "output_type": "execute_result",
     "data": {
      "text/plain": [
       "(235, b'2.7.0 Accepted')"
      ]
     },
     "metadata": {},
     "execution_count": 12
    }
   ],
   "source": [
    "server.login(username,password)    "
   ]
  },
  {
   "cell_type": "code",
   "execution_count": 14,
   "metadata": {},
   "outputs": [
    {
     "output_type": "error",
     "ename": "NameError",
     "evalue": "name 'to_emails' is not defined",
     "traceback": [
      "\u001b[1;31m---------------------------------------------------------------------------\u001b[0m",
      "\u001b[1;31mNameError\u001b[0m                                 Traceback (most recent call last)",
      "\u001b[1;32m<ipython-input-14-3d53a73b664b>\u001b[0m in \u001b[0;36m<module>\u001b[1;34m\u001b[0m\n\u001b[1;32m----> 1\u001b[1;33m \u001b[0mserver\u001b[0m\u001b[1;33m.\u001b[0m\u001b[0msendmail\u001b[0m\u001b[1;33m(\u001b[0m\u001b[0musername\u001b[0m \u001b[1;33m,\u001b[0m \u001b[0mto_emails\u001b[0m\u001b[1;33m,\u001b[0m\u001b[0mmsg_str\u001b[0m\u001b[1;33m)\u001b[0m\u001b[1;33m\u001b[0m\u001b[1;33m\u001b[0m\u001b[0m\n\u001b[0m",
      "\u001b[1;31mNameError\u001b[0m: name 'to_emails' is not defined"
     ]
    }
   ],
   "source": []
  },
  {
   "cell_type": "code",
   "execution_count": null,
   "metadata": {},
   "outputs": [],
   "source": []
  }
 ]
}